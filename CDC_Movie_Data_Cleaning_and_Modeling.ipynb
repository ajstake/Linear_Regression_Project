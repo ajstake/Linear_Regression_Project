{
 "cells": [
  {
   "cell_type": "code",
   "execution_count": 1,
   "id": "913bf193",
   "metadata": {},
   "outputs": [],
   "source": [
    "import pandas as pd\n",
    "import numpy as np\n",
    "import seaborn as sns\n",
    "from sklearn.linear_model import LinearRegression\n",
    "from bs4 import BeautifulSoup\n",
    "import requests\n",
    "import dateutil.parser\n",
    "\n",
    "def to_date(datestring):\n",
    "    date = dateutil.parser.parse(datestring)\n",
    "    return date\n",
    "\n",
    "def money_to_int(moneystring):\n",
    "    moneystring = moneystring.replace('$', '').replace(',', '')\n",
    "    return int(moneystring)"
   ]
  },
  {
   "cell_type": "code",
   "execution_count": 2,
   "id": "d9b2e994",
   "metadata": {},
   "outputs": [
    {
     "name": "stderr",
     "output_type": "stream",
     "text": [
      "/Users/alexstake/opt/anaconda3/envs/metis/lib/python3.8/site-packages/IPython/core/interactiveshell.py:3441: DtypeWarning: Columns (2,10) have mixed types.Specify dtype option on import or set low_memory=False.\n",
      "  exec(code_obj, self.user_global_ns, self.user_ns)\n"
     ]
    }
   ],
   "source": [
    "all_data = pd.read_csv('Movies_and_CDC_Data.csv')"
   ]
  },
  {
   "cell_type": "code",
   "execution_count": 3,
   "id": "af195ec9",
   "metadata": {},
   "outputs": [
    {
     "name": "stdout",
     "output_type": "stream",
     "text": [
      "<class 'pandas.core.frame.DataFrame'>\n",
      "RangeIndex: 484115 entries, 0 to 484114\n",
      "Data columns (total 80 columns):\n",
      " #   Column                                  Non-Null Count   Dtype  \n",
      "---  ------                                  --------------   -----  \n",
      " 0   Date                                    484115 non-null  object \n",
      " 1   rank                                    484115 non-null  int64  \n",
      " 2   rank_yest                               484115 non-null  object \n",
      " 3   movie_title                             484115 non-null  object \n",
      " 4   daily_gross                             484115 non-null  object \n",
      " 5   gross_change_day%                       484115 non-null  object \n",
      " 6   gross_change_week%                      484115 non-null  object \n",
      " 7   num_of_theaters                         484115 non-null  object \n",
      " 8   avg_gross_per_theater                   484115 non-null  object \n",
      " 9   gross_to_date                           484115 non-null  object \n",
      " 10  days_in_release                         484115 non-null  object \n",
      " 11  distributor                             483725 non-null  object \n",
      " 12  MMWR_week                               484115 non-null  int64  \n",
      " 13  Location                                484115 non-null  object \n",
      " 14  Distributed                             484115 non-null  int64  \n",
      " 15  Distributed_Janssen                     484115 non-null  int64  \n",
      " 16  Distributed_Moderna                     484115 non-null  int64  \n",
      " 17  Distributed_Pfizer                      484115 non-null  int64  \n",
      " 18  Distributed_Unk_Manuf                   484115 non-null  int64  \n",
      " 19  Dist_Per_100K                           484115 non-null  int64  \n",
      " 20  Distributed_Per_100k_12Plus             484115 non-null  int64  \n",
      " 21  Distributed_Per_100k_18Plus             484115 non-null  int64  \n",
      " 22  Distributed_Per_100k_65Plus             484115 non-null  int64  \n",
      " 23  Administered                            484115 non-null  int64  \n",
      " 24  Administered_12Plus                     484115 non-null  int64  \n",
      " 25  Administered_18Plus                     484115 non-null  int64  \n",
      " 26  Administered_65Plus                     484115 non-null  int64  \n",
      " 27  Administered_Janssen                    484115 non-null  int64  \n",
      " 28  Administered_Moderna                    484115 non-null  int64  \n",
      " 29  Administered_Pfizer                     484115 non-null  int64  \n",
      " 30  Administered_Unk_Manuf                  484115 non-null  int64  \n",
      " 31  Administered_Fed_LTC                    484115 non-null  int64  \n",
      " 32  Administered_Fed_LTC_Residents          484115 non-null  int64  \n",
      " 33  Administered_Fed_LTC_Staff              484115 non-null  int64  \n",
      " 34  Administered_Fed_LTC_Unk                484115 non-null  int64  \n",
      " 35  Administered_Fed_LTC_Dose1              484115 non-null  int64  \n",
      " 36  Administered_Fed_LTC_Dose1_Residents    484115 non-null  int64  \n",
      " 37  Administered_Fed_LTC_Dose1_Staff        484115 non-null  int64  \n",
      " 38  Administered_Fed_LTC_Dose1_Unk          484115 non-null  int64  \n",
      " 39  Admin_Per_100K                          484115 non-null  int64  \n",
      " 40  Admin_Per_100k_12Plus                   484115 non-null  int64  \n",
      " 41  Admin_Per_100k_18Plus                   484115 non-null  int64  \n",
      " 42  Admin_Per_100k_65Plus                   484115 non-null  int64  \n",
      " 43  Recip_Administered                      484115 non-null  int64  \n",
      " 44  Administered_Dose1_Recip                484115 non-null  int64  \n",
      " 45  Administered_Dose1_Pop_Pct              484115 non-null  float64\n",
      " 46  Administered_Dose1_Recip_12Plus         484115 non-null  int64  \n",
      " 47  Administered_Dose1_Recip_12PlusPop_Pct  484115 non-null  float64\n",
      " 48  Administered_Dose1_Recip_18Plus         484115 non-null  int64  \n",
      " 49  Administered_Dose1_Recip_18PlusPop_Pct  484115 non-null  float64\n",
      " 50  Administered_Dose1_Recip_65Plus         484115 non-null  int64  \n",
      " 51  Administered_Dose1_Recip_65PlusPop_Pct  484115 non-null  float64\n",
      " 52  Series_Complete_Yes                     484115 non-null  int64  \n",
      " 53  Series_Complete_Pop_Pct                 484115 non-null  float64\n",
      " 54  Series_Complete_12Plus                  484115 non-null  int64  \n",
      " 55  Series_Complete_12PlusPop_Pct           484115 non-null  float64\n",
      " 56  Series_Complete_18Plus                  484115 non-null  int64  \n",
      " 57  Series_Complete_18PlusPop_Pct           484115 non-null  float64\n",
      " 58  Series_Complete_65Plus                  484115 non-null  int64  \n",
      " 59  Series_Complete_65PlusPop_Pct           484115 non-null  float64\n",
      " 60  Series_Complete_Janssen                 484115 non-null  int64  \n",
      " 61  Series_Complete_Moderna                 484115 non-null  int64  \n",
      " 62  Series_Complete_Pfizer                  484115 non-null  int64  \n",
      " 63  Series_Complete_Unk_Manuf               484115 non-null  int64  \n",
      " 64  Series_Complete_Janssen_12Plus          484115 non-null  int64  \n",
      " 65  Series_Complete_Moderna_12Plus          484115 non-null  int64  \n",
      " 66  Series_Complete_Pfizer_12Plus           484115 non-null  int64  \n",
      " 67  Series_Complete_Unk_Manuf_12Plus        484115 non-null  int64  \n",
      " 68  Series_Complete_Janssen_18Plus          484115 non-null  int64  \n",
      " 69  Series_Complete_Moderna_18Plus          484115 non-null  int64  \n",
      " 70  Series_Complete_Pfizer_18Plus           484115 non-null  int64  \n",
      " 71  Series_Complete_Unk_Manuf_18Plus        484115 non-null  int64  \n",
      " 72  Series_Complete_Janssen_65Plus          484115 non-null  int64  \n",
      " 73  Series_Complete_Moderna_65Plus          484115 non-null  int64  \n",
      " 74  Series_Complete_Pfizer_65Plus           484115 non-null  int64  \n",
      " 75  Series_Complete_Unk_Manuf_65Plus        484115 non-null  int64  \n",
      " 76  Series_Complete_FedLTC                  484115 non-null  int64  \n",
      " 77  Series_Complete_FedLTC_Residents        484115 non-null  int64  \n",
      " 78  Series_Complete_FedLTC_Staff            484115 non-null  int64  \n",
      " 79  Series_Complete_FedLTC_Unknown          484115 non-null  int64  \n",
      "dtypes: float64(8), int64(60), object(12)\n",
      "memory usage: 295.5+ MB\n"
     ]
    }
   ],
   "source": [
    "all_data.info()"
   ]
  },
  {
   "cell_type": "code",
   "execution_count": null,
   "id": "d34feafd",
   "metadata": {},
   "outputs": [],
   "source": []
  }
 ],
 "metadata": {
  "kernelspec": {
   "display_name": "Python 3 (ipykernel)",
   "language": "python",
   "name": "python3"
  },
  "language_info": {
   "codemirror_mode": {
    "name": "ipython",
    "version": 3
   },
   "file_extension": ".py",
   "mimetype": "text/x-python",
   "name": "python",
   "nbconvert_exporter": "python",
   "pygments_lexer": "ipython3",
   "version": "3.8.10"
  }
 },
 "nbformat": 4,
 "nbformat_minor": 5
}
